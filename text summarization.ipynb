{
 "cells": [
  {
   "cell_type": "code",
   "execution_count": 15,
   "id": "c386e42d-8f80-439c-86aa-e3bd8eab8a9e",
   "metadata": {},
   "outputs": [],
   "source": [
    "import torch\n",
    "from transformers import T5Tokenizer, T5ForConditionalGeneration"
   ]
  },
  {
   "cell_type": "code",
   "execution_count": 16,
   "id": "5227250c-d542-4fc3-b247-f4ee5f2ffcbb",
   "metadata": {},
   "outputs": [],
   "source": [
    "# Load the T5 model and tokenizer\n",
    "model = T5ForConditionalGeneration.from_pretrained('t5-small')\n",
    "tokenizer = T5Tokenizer.from_pretrained('t5-small')\n",
    "device = torch.device('cpu')  # or 'cuda' if you have a GPU"
   ]
  },
  {
   "cell_type": "code",
   "execution_count": 3,
   "id": "48346e78-ef43-4fdc-9d3c-da67697518db",
   "metadata": {},
   "outputs": [],
   "source": [
    "model = T5ForConditionalGeneration.from_pretrained('t5-small')\n",
    "tokenizer = T5Tokenizer.from_pretrained('t5-small')\n",
    "device = torch.device('cpu')"
   ]
  },
  {
   "cell_type": "code",
   "execution_count": 17,
   "id": "1ad23ef2-a326-405e-a40e-8363c1434640",
   "metadata": {},
   "outputs": [],
   "source": [
    "device = torch.device('cpu')\n",
    "model = T5ForConditionalGeneration.from_pretrained('t5-small')\n",
    "tokenizer = T5Tokenizer.from_pretrained('t5-small')\n",
    "device = torch.device('cpu')"
   ]
  },
  {
   "cell_type": "code",
   "execution_count": 18,
   "id": "22e7b2c6-ac2e-4b95-81c3-f85003359e19",
   "metadata": {},
   "outputs": [],
   "source": [
    "# Input text to be summarized\n",
    "text = '''Napoleon: The Conqueror of Destiny delves into the tumultuous life of one of history's most iconic figures. From his humble beginnings in Corsica to his meteoric rise as Emperor of the French, this book unveils the complex character of Napoleon Bonaparte. Through battles and alliances, victories and defeats, readers will follow the indomitable spirit of a man who reshaped Europe and left an indelible mark on the annals of history. With vivid storytelling and meticulous research, this biography offers a captivating glimpse into the mind and motivations of the man who dared to dream on an imperial scale.'''\n"
   ]
  },
  {
   "cell_type": "code",
   "execution_count": 19,
   "id": "fead9701-6cf9-46f9-ad40-97c201e7ee4c",
   "metadata": {},
   "outputs": [],
   "source": [
    "# Preprocess the input text\n",
    "preprocessed_text = text.strip().replace('\\n', '')\n",
    "t5_input_text = 'summarize: ' + preprocessed_text"
   ]
  },
  {
   "cell_type": "code",
   "execution_count": 20,
   "id": "091d7d1d-5601-40ec-8d2c-fb2fb17301e1",
   "metadata": {},
   "outputs": [
    {
     "data": {
      "text/plain": [
       "\"summarize: Napoleon: The Conqueror of Destiny delves into the tumultuous life of one of history's most iconic figures. From his humble beginnings in Corsica to his meteoric rise as Emperor of the French, this book unveils the complex character of Napoleon Bonaparte. Through battles and alliances, victories and defeats, readers will follow the indomitable spirit of a man who reshaped Europe and left an indelible mark on the annals of history. With vivid storytelling and meticulous research, this biography offers a captivating glimpse into the mind and motivations of the man who dared to dream on an imperial scale.\""
      ]
     },
     "execution_count": 20,
     "metadata": {},
     "output_type": "execute_result"
    }
   ],
   "source": [
    "t5_input_text"
   ]
  },
  {
   "cell_type": "code",
   "execution_count": 21,
   "id": "2668f336-2b26-47c9-9182-07ce2ca3cd57",
   "metadata": {},
   "outputs": [
    {
     "data": {
      "text/plain": [
       "99"
      ]
     },
     "execution_count": 21,
     "metadata": {},
     "output_type": "execute_result"
    }
   ],
   "source": [
    "len(t5_input_text.split())"
   ]
  },
  {
   "cell_type": "code",
   "execution_count": 22,
   "id": "0ba2fe06-c117-43eb-930d-3b98c100716f",
   "metadata": {},
   "outputs": [],
   "source": [
    "# Tokenize the input text\n",
    "input_ids = tokenizer.encode(t5_input_text, return_tensors='pt', max_length=512, truncation=True).to(device)"
   ]
  },
  {
   "cell_type": "code",
   "execution_count": 23,
   "id": "a3cf2b64-6ca0-413e-b34a-ea4435c5bd93",
   "metadata": {},
   "outputs": [],
   "source": [
    "# Generate the summary\n",
    "summary_ids = model.generate(input_ids, min_length=30, max_length=120, num_beams=4, length_penalty=2.0, early_stopping=True)\n",
    "summary = tokenizer.decode(summary_ids[0], skip_special_tokens=True)"
   ]
  },
  {
   "cell_type": "code",
   "execution_count": 24,
   "id": "28fed9ae-0d0c-45b3-8069-fb051e1c0022",
   "metadata": {},
   "outputs": [
    {
     "data": {
      "text/plain": [
       "\"Napoleon: The Conqueror of Destiny delves into the tumultuous life of one of history's most iconic figures. from his humble beginnings in corsica to his meteoric rise as Emperor of the French, this book unveils the complex character of Napoleon Bonaparte.\""
      ]
     },
     "execution_count": 24,
     "metadata": {},
     "output_type": "execute_result"
    }
   ],
   "source": [
    "summary"
   ]
  },
  {
   "cell_type": "code",
   "execution_count": null,
   "id": "99bd4d37-574a-4130-81d7-d678ca5ac5dd",
   "metadata": {},
   "outputs": [],
   "source": []
  }
 ],
 "metadata": {
  "kernelspec": {
   "display_name": "Python 3 (ipykernel)",
   "language": "python",
   "name": "python3"
  },
  "language_info": {
   "codemirror_mode": {
    "name": "ipython",
    "version": 3
   },
   "file_extension": ".py",
   "mimetype": "text/x-python",
   "name": "python",
   "nbconvert_exporter": "python",
   "pygments_lexer": "ipython3",
   "version": "3.11.5"
  }
 },
 "nbformat": 4,
 "nbformat_minor": 5
}
